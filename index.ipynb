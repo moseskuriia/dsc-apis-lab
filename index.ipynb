{
 "cells": [
  {
   "cell_type": "markdown",
   "metadata": {},
   "source": [
    "# APIs - Cumulative Lab\n",
    "\n",
    "\n",
    "## Introduction \n",
    "\n",
    "We've seen how the Yelp API works and how to create basic visualizations using Folium. It's time to put those skills to work in order to create a working map! Taking things a step further, you'll also independently explore how to perform pagination in order to retrieve a full results set from the Yelp API.\n",
    "\n",
    "## Objectives\n",
    "\n",
    "You will be able to: \n",
    "\n",
    "* Practice using functions to organize your code\n",
    "* Use pagination to retrieve all results from an API query\n",
    "* Practice parsing data returned from an API query\n",
    "* Practice interpreting visualizations of a dataset\n",
    "* Create maps using Folium"
   ]
  },
  {
   "cell_type": "markdown",
   "metadata": {},
   "source": [
    "## Your Task: Query Yelp for All Businesses in a Category and Analyze the Results\n",
    "\n",
    "![restaurant counter with pizza](images/restaurant_counter.jpg)\n",
    "\n",
    "Photo by <a href=\"https://unsplash.com/@jordanmadrid?utm_source=unsplash&utm_medium=referral&utm_content=creditCopyText\">Jordan Madrid</a> on <a href=\"/s/photos/pizza-restaurant?utm_source=unsplash&utm_medium=referral&utm_content=creditCopyText\">Unsplash</a>"
   ]
  },
  {
   "cell_type": "markdown",
   "metadata": {},
   "source": [
    "### Overview\n",
    "\n",
    "You've now worked with some API calls, but we have yet to see how to retrieve a more complete dataset in a programmatic manner. In this lab, you will write a query of businesses on Yelp, then use *pagination* to retrieve all possible results for that query. Then you will create a summary of your findings, including a Folium map of the geographic locations of those businesses.\n",
    "\n",
    "### Technical Details\n",
    "\n",
    "Returning to the Yelp API, the [documentation](https://www.yelp.com/developers/documentation/v3/business_search) also provides us details regarding the **API limits**. These often include details about the number of requests a user is allowed to make within a specified time limit and the maximum number of results to be returned. In this case, we are told that any request has a **maximum of 50 results per request** and defaults to 20. Furthermore, any search will be limited to a **total of 1000 results**. To retrieve all 1000 of these results, we would have to page through the results piece by piece, retrieving 50 at a time. Processes such as these are often referred to as pagination.\n",
    "\n",
    "Also, be mindful of the **API** ***rate*** **limits**. You can only make **5000 requests per day** and are also can make requests too fast. Start prototyping small before running a loop that could be faulty. You can also use `time.sleep(n)` to add delays. For more details see https://www.yelp.com/developers/documentation/v3/rate_limiting.\n",
    "\n",
    "In this lab, you will define a search and then paginate over the results to retrieve all of the results. You'll then parse these responses as a list of dictionaries (for further exploration) and create a map using Folium to visualize the results geographically.\n",
    "\n",
    "### Requirements\n",
    "\n",
    "#### 1. Make the Initial Request\n",
    "\n",
    "Start by filling in your API key to make the initial request to the business search API. Investigate the structure of the response you get back and start figuring out how you will extract the relevant information.\n",
    "\n",
    "#### 2. Add Pagination\n",
    "\n",
    "Using loops and functions, collect the maximum number of results for your query from the API.\n",
    "\n",
    "#### 3. Perform Exploratory Analysis\n",
    "\n",
    "Interpret visualizations related to the price range, average rating, and number of reviews for all query results.\n",
    "\n",
    "#### 4. Create a Folium Map\n",
    "\n",
    "Using latitude and longitude data, plot the query results on an interactive map."
   ]
  },
  {
   "cell_type": "markdown",
   "metadata": {},
   "source": [
    "## 1. Make the Initial Request\n",
    "\n",
    "### Querying\n",
    "\n",
    "Start by making an initial request to the Yelp API. Your search must include at least 2 parameters: **term** and **location**. For example, you might search for pizza restaurants in NYC. The term and location is up to you but make the request below.\n",
    "\n",
    "Use the `requests` library ([documentation here](https://requests.readthedocs.io/en/master/user/quickstart/#make-a-request)).\n",
    "\n",
    "You'll also need an API key from Yelp. If you haven't done this already, go to the Yelp [Manage App page](https://www.yelp.com/developers/v3/manage_app) and create a new app (after making an account if you haven't already)."
   ]
  },
  {
   "cell_type": "code",
   "execution_count": 47,
   "metadata": {},
   "outputs": [
    {
     "data": {
      "text/plain": [
       "<Response [200]>"
      ]
     },
     "execution_count": 47,
     "metadata": {},
     "output_type": "execute_result"
    }
   ],
   "source": [
    "# Replace None with appropriate code\n",
    "\n",
    "# Import the requests library\n",
    "import requests\n",
    "# Get this from the \"Manage App\" page. Make sure you set them\n",
    "# back to None before pushing this to GitHub, since otherwise\n",
    "# your credentials will be compromised\n",
    "api_key = None\n",
    "\n",
    "# These can be whatever you want! But the solution uses \"pizza\"\n",
    "# and \"New York NY\" if you want to compare your work directly\n",
    "term = \"pizza\"\n",
    "location = \"New York NY\"\n",
    "\n",
    "# Set up params for request\n",
    "url = \"https://api.yelp.com/v3/businesses/search\"\n",
    "headers = {\n",
    "    \"Authorization\": \"Bearer {}\".format(api_key)\n",
    "}\n",
    "url_params = {\n",
    "    \"term\": term.replace(\" \", \"+\"),\n",
    "    \"location\": location.replace(\" \", \"+\")\n",
    "}\n",
    "\n",
    "# Make the request using requests.get, passing in\n",
    "# url, headers=headers, and params=url_params\n",
    "response = requests.get(url, headers=headers, params=url_params)\n",
    "\n",
    "# Confirm we got a 200 response\n",
    "response"
   ]
  },
  {
   "cell_type": "code",
   "execution_count": 48,
   "metadata": {},
   "outputs": [
    {
     "data": {
      "text/plain": [
       "dict_keys(['businesses', 'total', 'region'])"
      ]
     },
     "execution_count": 48,
     "metadata": {},
     "output_type": "execute_result"
    }
   ],
   "source": [
    "# Run this cell without changes\n",
    "\n",
    "# Get the response body in JSON format\n",
    "response_json = response.json()\n",
    "# View the keys\n",
    "response_json.keys()"
   ]
  },
  {
   "cell_type": "markdown",
   "metadata": {},
   "source": [
    "### Extracting Data\n",
    "\n",
    "Now, retrieve the value associated with the `'businesses'` key, and inspect its contents."
   ]
  },
  {
   "cell_type": "code",
   "execution_count": 49,
   "metadata": {},
   "outputs": [
    {
     "data": {
      "text/plain": [
       "[{'id': 'zj8Lq1T8KIC5zwFief15jg',\n",
       "  'alias': 'prince-street-pizza-new-york-2',\n",
       "  'name': 'Prince Street Pizza',\n",
       "  'image_url': 'https://s3-media2.fl.yelpcdn.com/bphoto/AaCoCIY53sQkaqrquNKRJQ/o.jpg',\n",
       "  'is_closed': False,\n",
       "  'url': 'https://www.yelp.com/biz/prince-street-pizza-new-york-2?adjust_creative=7SQJKdtty2xDXFPD4aSBZg&utm_campaign=yelp_api_v3&utm_medium=api_v3_business_search&utm_source=7SQJKdtty2xDXFPD4aSBZg',\n",
       "  'review_count': 4574,\n",
       "  'categories': [{'alias': 'pizza', 'title': 'Pizza'},\n",
       "   {'alias': 'italian', 'title': 'Italian'}],\n",
       "  'rating': 4.5,\n",
       "  'coordinates': {'latitude': 40.72308755605564,\n",
       "   'longitude': -73.99453001177575},\n",
       "  'transactions': ['pickup', 'delivery'],\n",
       "  'price': '$',\n",
       "  'location': {'address1': '27 Prince St',\n",
       "   'address2': None,\n",
       "   'address3': '',\n",
       "   'city': 'New York',\n",
       "   'zip_code': '10012',\n",
       "   'country': 'US',\n",
       "   'state': 'NY',\n",
       "   'display_address': ['27 Prince St', 'New York, NY 10012']},\n",
       "  'phone': '+12129664100',\n",
       "  'display_phone': '(212) 966-4100',\n",
       "  'distance': 1961.8771417367063},\n",
       " {'id': 'ysqgdbSrezXgVwER2kQWKA',\n",
       "  'alias': 'julianas-brooklyn-3',\n",
       "  'name': \"Juliana's\",\n",
       "  'image_url': 'https://s3-media2.fl.yelpcdn.com/bphoto/HB5-BoJaVwOP5wLMG57TlA/o.jpg',\n",
       "  'is_closed': False,\n",
       "  'url': 'https://www.yelp.com/biz/julianas-brooklyn-3?adjust_creative=7SQJKdtty2xDXFPD4aSBZg&utm_campaign=yelp_api_v3&utm_medium=api_v3_business_search&utm_source=7SQJKdtty2xDXFPD4aSBZg',\n",
       "  'review_count': 2549,\n",
       "  'categories': [{'alias': 'pizza', 'title': 'Pizza'}],\n",
       "  'rating': 4.5,\n",
       "  'coordinates': {'latitude': 40.70274718768062,\n",
       "   'longitude': -73.99343490196397},\n",
       "  'transactions': ['delivery'],\n",
       "  'price': '$$',\n",
       "  'location': {'address1': '19 Old Fulton St',\n",
       "   'address2': '',\n",
       "   'address3': '',\n",
       "   'city': 'Brooklyn',\n",
       "   'zip_code': '11201',\n",
       "   'country': 'US',\n",
       "   'state': 'NY',\n",
       "   'display_address': ['19 Old Fulton St', 'Brooklyn, NY 11201']},\n",
       "  'phone': '+17185966700',\n",
       "  'display_phone': '(718) 596-6700',\n",
       "  'distance': 308.56984360837544}]"
      ]
     },
     "execution_count": 49,
     "metadata": {},
     "output_type": "execute_result"
    }
   ],
   "source": [
    "# Replace None with appropriate code\n",
    "\n",
    "# Retrieve the value from response_json\n",
    "businesses = response_json['businesses']\n",
    "\n",
    "# View the first 2 records\n",
    "businesses[:2]"
   ]
  },
  {
   "cell_type": "markdown",
   "metadata": {},
   "source": [
    "### Preparing Data\n",
    "\n",
    "Write a function `prepare_data` that takes in a list of dictionaries like `businesses` and returns a copy that has been prepared for analysis:\n",
    "\n",
    "1. The `coordinates` key-value pair has been converted into two separate key-value pairs, `latitude` and `longitude`\n",
    "2. All other key-value pairs except for `name`, `review_count`, `rating`, and `price` have been dropped\n",
    "3. All dictionaries missing one of the relevant keys or containing null values have been dropped\n",
    "\n",
    "In other words, the final keys for each dictionary should be `name`, `review_count`, `rating`, `price`, `latitude`, and `longitude`.\n",
    "\n",
    "Complete the function in the cell below:"
   ]
  },
  {
   "cell_type": "code",
   "execution_count": 53,
   "metadata": {},
   "outputs": [
    {
     "data": {
      "text/plain": [
       "[{'name': 'Gelso & Grand',\n",
       "  'latitude': 40.71958,\n",
       "  'longitude': -73.99734,\n",
       "  'review_count': 1295,\n",
       "  'rating': 4.5,\n",
       "  'price': '$$'},\n",
       " {'name': 'Gelso & Grand',\n",
       "  'latitude': 40.71958,\n",
       "  'longitude': -73.99734,\n",
       "  'review_count': 1295,\n",
       "  'rating': 4.5,\n",
       "  'price': '$$'},\n",
       " {'name': 'Gelso & Grand',\n",
       "  'latitude': 40.71958,\n",
       "  'longitude': -73.99734,\n",
       "  'review_count': 1295,\n",
       "  'rating': 4.5,\n",
       "  'price': '$$'},\n",
       " {'name': 'Gelso & Grand',\n",
       "  'latitude': 40.71958,\n",
       "  'longitude': -73.99734,\n",
       "  'review_count': 1295,\n",
       "  'rating': 4.5,\n",
       "  'price': '$$'}]"
      ]
     },
     "execution_count": 53,
     "metadata": {},
     "output_type": "execute_result"
    }
   ],
   "source": [
    "# Replace None with appropriate code\n",
    "\n",
    "def prepare_data(data_list):\n",
    "    \"\"\"\n",
    "    This function takes in a list of dictionaries and prepares it\n",
    "    for analysis\n",
    "    \"\"\"\n",
    "    \n",
    "    # Make a new list to hold results\n",
    "    results = []\n",
    "    \n",
    "    for business_data in data_list:\n",
    "    \n",
    "        # Make a new dictionary to hold prepared data for this business\n",
    "        prepared_data = {}\n",
    "        \n",
    "        # Extract name, review_count, rating, and price key-value pairs\n",
    "        # from business_data and add to prepared_data\n",
    "        # If a key is not present in business_data, add it to prepared_data\n",
    "        # with an associated value of None\n",
    "    for key in (\"name\", \"review_count\", \"rating\", \"price\"):\n",
    "        prepared_data[key] = business_data.get(key, None)\n",
    "    \n",
    "        # Parse and add latitude and longitude columns\n",
    "        coordinates = business_data[\"coordinates\"]\n",
    "        prepared_data[\"latitude\"] = coordinates[\"latitude\"]\n",
    "        prepared_data[\"longitude\"] = coordinates[\"longitude\"]\n",
    "        \n",
    "        # Add to list if all values are present\n",
    "        if all(prepared_data.values()):\n",
    "            results.append(prepared_data)\n",
    "    \n",
    "    return results\n",
    "    \n",
    "# Test out function\n",
    "prepared_businesses = prepare_data(businesses)\n",
    "prepared_businesses[:5]"
   ]
  },
  {
   "cell_type": "markdown",
   "metadata": {},
   "source": [
    "Check that your function created the correct keys:"
   ]
  },
  {
   "cell_type": "code",
   "execution_count": 54,
   "metadata": {},
   "outputs": [],
   "source": [
    "# Run this cell without changes\n",
    "\n",
    "assert sorted(list(prepared_businesses[0].keys())) == ['latitude', 'longitude', 'name', 'price', 'rating', 'review_count']"
   ]
  },
  {
   "cell_type": "markdown",
   "metadata": {},
   "source": [
    "The following code will differ depending on your query, but we expect there to be 20 businesses in the original list, and potentially fewer in the prepared list (if any of them were missing data):"
   ]
  },
  {
   "cell_type": "code",
   "execution_count": 55,
   "metadata": {},
   "outputs": [
    {
     "name": "stdout",
     "output_type": "stream",
     "text": [
      "Original: 20\n",
      "Prepared: 4\n"
     ]
    }
   ],
   "source": [
    "# Run this cell without changes\n",
    "print(\"Original:\", len(businesses))\n",
    "print(\"Prepared:\", len(prepared_businesses))"
   ]
  },
  {
   "cell_type": "markdown",
   "metadata": {},
   "source": [
    "Great! We will reuse this function once we have retrieved the full dataset."
   ]
  },
  {
   "cell_type": "markdown",
   "metadata": {},
   "source": [
    "## 2. Add Pagination\n",
    "\n",
    "Now that you are able to extract information from one page of the response, let's figure out how to request as many pages as possible.\n",
    "\n",
    "### Determining the Total\n",
    "\n",
    "Depending on the number of total results for your query, you will either retrieve all of the results, or just the first 1000 (if there are more than 1000 total).\n",
    "\n",
    "We can find the total number of results using the `\"total\"` key:"
   ]
  },
  {
   "cell_type": "code",
   "execution_count": 56,
   "metadata": {},
   "outputs": [
    {
     "data": {
      "text/plain": [
       "12300"
      ]
     },
     "execution_count": 56,
     "metadata": {},
     "output_type": "execute_result"
    }
   ],
   "source": [
    "# Run this cell without changes\n",
    "response_json[\"total\"]"
   ]
  },
  {
   "cell_type": "markdown",
   "metadata": {},
   "source": [
    "(This is specific to the implementation of the Yelp API. Some APIs will just tell you that there are more pages, or will tell you the number of pages total, rather than the total number of results. If you're not sure, always check the documentation.)\n",
    "\n",
    "In the cell below, assign the variable `total` to either the value shown above (if it is less than 1000), or 1000."
   ]
  },
  {
   "cell_type": "code",
   "execution_count": 57,
   "metadata": {},
   "outputs": [],
   "source": [
    "# Replace None with appropriate code\n",
    "total = 1000"
   ]
  },
  {
   "cell_type": "markdown",
   "metadata": {},
   "source": [
    "### Calculating the Offsets\n",
    "\n",
    "The documentation states in the parameters section:\n",
    "\n",
    "> **Name**: `limit`, **Type:** int, **Description:** Optional. Number of business results to return. By default, it will return 20. Maximum is 50.\n",
    "\n",
    "> **Name**: `offset`, **Type:** int, **Description:** Optional. Offset the list of returned business results by this amount.\n",
    "\n",
    "So, to get the most results with the fewest API calls we want to set a limit of 50 every time. If, say, we wanted to get 210 total results, that would mean:\n",
    "\n",
    "1. Offset of `0` (first 50 records)\n",
    "2. Offset of `50` (second 50 records)\n",
    "3. Offset of `100` (third 50 records)\n",
    "4. Offset of `150` (fourth 50 records)\n",
    "5. Offset of `200` (final 10 records)\n",
    "\n",
    "In the cell below, create a function `get_offsets` that takes in a total and returns a list of offsets for that total. You can assume that there is a limit of 50 every time.\n",
    "\n",
    "*Hint: you can use `range` ([documentation here](https://docs.python.org/3.3/library/stdtypes.html?highlight=range#range)) to do this in one line of code. Just make the returned result is a list.*"
   ]
  },
  {
   "cell_type": "code",
   "execution_count": 58,
   "metadata": {},
   "outputs": [],
   "source": [
    "# Replace None with appropriate code\n",
    "def get_offsets(total):\n",
    "    \"\"\"\n",
    "    Get a list of offsets needed to get all pages\n",
    "    of data up until the total\n",
    "    \"\"\"\n",
    "    return list(range(0, total, 50))"
   ]
  },
  {
   "cell_type": "markdown",
   "metadata": {},
   "source": [
    "Check that your function works below:"
   ]
  },
  {
   "cell_type": "code",
   "execution_count": 59,
   "metadata": {},
   "outputs": [],
   "source": [
    "# Run this cell without changes\n",
    "\n",
    "assert get_offsets(200) == [0, 50, 100, 150]\n",
    "assert get_offsets(210) == [0, 50, 100, 150, 200]"
   ]
  },
  {
   "cell_type": "markdown",
   "metadata": {},
   "source": [
    "### Putting It All Together\n",
    "\n",
    "Recall that the following variable has already been declared for you:"
   ]
  },
  {
   "cell_type": "code",
   "execution_count": 60,
   "metadata": {},
   "outputs": [
    {
     "data": {
      "text/plain": [
       "{'term': 'pizza', 'location': 'New+York+NY'}"
      ]
     },
     "execution_count": 60,
     "metadata": {},
     "output_type": "execute_result"
    }
   ],
   "source": [
    "# Run this cell without changes\n",
    "url_params"
   ]
  },
  {
   "cell_type": "markdown",
   "metadata": {},
   "source": [
    "We'll go ahead and also specify that the limit should be 50 every time:"
   ]
  },
  {
   "cell_type": "code",
   "execution_count": 61,
   "metadata": {},
   "outputs": [],
   "source": [
    "# Run this cell without changes\n",
    "url_params[\"limit\"] = 50"
   ]
  },
  {
   "cell_type": "markdown",
   "metadata": {},
   "source": [
    "In order to modify the offset, you'll need to add it to `url_params` with the key `\"offset\"` and whatever value is needed.\n",
    "\n",
    "In the cell below, write code that:\n",
    "\n",
    "* Creates an empty list for the full prepared dataset\n",
    "* Loops over all of the offsets from `get_offsets` and makes an API call each time with the specified offset\n",
    "* Calls `prepare_data` to get a cleaned version of the result of each API call\n",
    "* Extends the full prepared dataset list with each query's prepared dataset"
   ]
  },
  {
   "cell_type": "code",
   "execution_count": 68,
   "metadata": {},
   "outputs": [
    {
     "data": {
      "text/plain": [
       "75"
      ]
     },
     "execution_count": 68,
     "metadata": {},
     "output_type": "execute_result"
    }
   ],
   "source": [
    "# Replace None with appropriate code\n",
    "\n",
    "# Create an empty list for the full prepared dataset\n",
    "full_dataset = []\n",
    "\n",
    "for offset in get_offsets(total):\n",
    "    # Add or update the \"offset\" key-value pair in url_params\n",
    "    url_params[\"offset\"] = offset\n",
    "    \n",
    "    # Make the query and get the response\n",
    "    response = requests.get(url, headers=headers, params=url_params)\n",
    "    \n",
    "    # Get the response body in JSON format\n",
    "    response_json = response.json()\n",
    "    \n",
    "    # Get the list of businesses from the response_json\n",
    "    businesses = response_json['businesses']\n",
    "    \n",
    "    # Call the prepare_data function to get a list of processed data\n",
    "    prepared_businesses = prepare_data(businesses)\n",
    "    \n",
    "    # Extend full_dataset with this list (don't append, or you'll get\n",
    "    # a list of lists instead of a flat list)\n",
    "    full_dataset.extend(prepared_businesses)\n",
    "\n",
    "# Check the length of the full dataset. It will be up to `total`,\n",
    "# potentially less if there were missing values\n",
    "len(full_dataset)"
   ]
  },
  {
   "cell_type": "markdown",
   "metadata": {},
   "source": [
    "This code may take up to a few minutes to run.\n",
    "\n",
    "If you get an error trying to get the response body in JSON format, try adding `time.sleep(1)` right after the `requests.get` line, so your code will sleep for 1 second between each API call."
   ]
  },
  {
   "cell_type": "markdown",
   "metadata": {},
   "source": [
    "## 3. Perform Exploratory Analysis\n",
    "\n",
    "Take the businesses from the previous question and do an initial exploratory analysis. We have provided some plots for you to interpret:"
   ]
  },
  {
   "cell_type": "code",
   "execution_count": 69,
   "metadata": {},
   "outputs": [
    {
     "ename": "AttributeError",
     "evalue": "'NoneType' object has no attribute 'replace'",
     "output_type": "error",
     "traceback": [
      "\u001b[1;31m---------------------------------------------------------------------------\u001b[0m",
      "\u001b[1;31mAttributeError\u001b[0m                            Traceback (most recent call last)",
      "\u001b[1;32m<ipython-input-69-2c402ae4d6ec>\u001b[0m in \u001b[0;36m<module>\u001b[1;34m\u001b[0m\n\u001b[0;32m     23\u001b[0m \u001b[1;33m\u001b[0m\u001b[0m\n\u001b[0;32m     24\u001b[0m \u001b[1;31m# Plot price distribution\u001b[0m\u001b[1;33m\u001b[0m\u001b[1;33m\u001b[0m\u001b[1;33m\u001b[0m\u001b[0m\n\u001b[1;32m---> 25\u001b[1;33m \u001b[0mall_prices\u001b[0m \u001b[1;33m=\u001b[0m \u001b[1;33m[\u001b[0m\u001b[0mx\u001b[0m\u001b[1;33m[\u001b[0m\u001b[1;34m\"price\"\u001b[0m\u001b[1;33m]\u001b[0m\u001b[1;33m.\u001b[0m\u001b[0mreplace\u001b[0m\u001b[1;33m(\u001b[0m\u001b[1;34m\"$\"\u001b[0m\u001b[1;33m,\u001b[0m \u001b[1;34mr\"\\$\"\u001b[0m\u001b[1;33m)\u001b[0m \u001b[1;32mfor\u001b[0m \u001b[0mx\u001b[0m \u001b[1;32min\u001b[0m \u001b[0mfull_dataset\u001b[0m\u001b[1;33m]\u001b[0m\u001b[1;33m\u001b[0m\u001b[1;33m\u001b[0m\u001b[0m\n\u001b[0m\u001b[0;32m     26\u001b[0m \u001b[0mprice_counter\u001b[0m \u001b[1;33m=\u001b[0m \u001b[0mCounter\u001b[0m\u001b[1;33m(\u001b[0m\u001b[0mall_prices\u001b[0m\u001b[1;33m)\u001b[0m\u001b[1;33m\u001b[0m\u001b[1;33m\u001b[0m\u001b[0m\n\u001b[0;32m     27\u001b[0m \u001b[0mprice_keys\u001b[0m \u001b[1;33m=\u001b[0m \u001b[0msorted\u001b[0m\u001b[1;33m(\u001b[0m\u001b[0mprice_counter\u001b[0m\u001b[1;33m.\u001b[0m\u001b[0mkeys\u001b[0m\u001b[1;33m(\u001b[0m\u001b[1;33m)\u001b[0m\u001b[1;33m)\u001b[0m\u001b[1;33m\u001b[0m\u001b[1;33m\u001b[0m\u001b[0m\n",
      "\u001b[1;32m<ipython-input-69-2c402ae4d6ec>\u001b[0m in \u001b[0;36m<listcomp>\u001b[1;34m(.0)\u001b[0m\n\u001b[0;32m     23\u001b[0m \u001b[1;33m\u001b[0m\u001b[0m\n\u001b[0;32m     24\u001b[0m \u001b[1;31m# Plot price distribution\u001b[0m\u001b[1;33m\u001b[0m\u001b[1;33m\u001b[0m\u001b[1;33m\u001b[0m\u001b[0m\n\u001b[1;32m---> 25\u001b[1;33m \u001b[0mall_prices\u001b[0m \u001b[1;33m=\u001b[0m \u001b[1;33m[\u001b[0m\u001b[0mx\u001b[0m\u001b[1;33m[\u001b[0m\u001b[1;34m\"price\"\u001b[0m\u001b[1;33m]\u001b[0m\u001b[1;33m.\u001b[0m\u001b[0mreplace\u001b[0m\u001b[1;33m(\u001b[0m\u001b[1;34m\"$\"\u001b[0m\u001b[1;33m,\u001b[0m \u001b[1;34mr\"\\$\"\u001b[0m\u001b[1;33m)\u001b[0m \u001b[1;32mfor\u001b[0m \u001b[0mx\u001b[0m \u001b[1;32min\u001b[0m \u001b[0mfull_dataset\u001b[0m\u001b[1;33m]\u001b[0m\u001b[1;33m\u001b[0m\u001b[1;33m\u001b[0m\u001b[0m\n\u001b[0m\u001b[0;32m     26\u001b[0m \u001b[0mprice_counter\u001b[0m \u001b[1;33m=\u001b[0m \u001b[0mCounter\u001b[0m\u001b[1;33m(\u001b[0m\u001b[0mall_prices\u001b[0m\u001b[1;33m)\u001b[0m\u001b[1;33m\u001b[0m\u001b[1;33m\u001b[0m\u001b[0m\n\u001b[0;32m     27\u001b[0m \u001b[0mprice_keys\u001b[0m \u001b[1;33m=\u001b[0m \u001b[0msorted\u001b[0m\u001b[1;33m(\u001b[0m\u001b[0mprice_counter\u001b[0m\u001b[1;33m.\u001b[0m\u001b[0mkeys\u001b[0m\u001b[1;33m(\u001b[0m\u001b[1;33m)\u001b[0m\u001b[1;33m)\u001b[0m\u001b[1;33m\u001b[0m\u001b[1;33m\u001b[0m\u001b[0m\n",
      "\u001b[1;31mAttributeError\u001b[0m: 'NoneType' object has no attribute 'replace'"
     ]
    },
    {
     "data": {
      "image/png": "[encoded data removed]",
      "text/plain": [
       "<Figure size 1152x360 with 3 Axes>"
      ]
     },
     "metadata": {
      "needs_background": "light"
     },
     "output_type": "display_data"
    }
   ],
   "source": [
    "# Run this cell without changes\n",
    "from collections import Counter\n",
    "import matplotlib.pyplot as plt\n",
    "%matplotlib inline\n",
    "\n",
    "fig, (ax1, ax2, ax3) = plt.subplots(ncols=3, figsize=(16, 5))\n",
    "\n",
    "# Plot distribution of number of reviews\n",
    "all_review_counts = [x[\"review_count\"] for x in full_dataset]\n",
    "ax1.hist(all_review_counts)\n",
    "ax1.set_title(\"Review Count Distribution\")\n",
    "ax1.set_xlabel(\"Number of Reviews\")\n",
    "ax1.set_ylabel(\"Number of Businesses\")\n",
    "\n",
    "# Plot rating distribution\n",
    "all_ratings = [x[\"rating\"] for x in full_dataset]\n",
    "rating_counter = Counter(all_ratings)\n",
    "rating_keys = sorted(rating_counter.keys())\n",
    "ax2.bar(rating_keys, [rating_counter[key] for key in rating_keys])\n",
    "ax2.set_title(\"Rating Distribution\")\n",
    "ax2.set_xlabel(\"Rating\")\n",
    "ax2.set_ylabel(\"Number of Businesses\")\n",
    "\n",
    "# Plot price distribution\n",
    "all_prices = [x[\"price\"].replace(\"$\", r\"\\$\") for x in full_dataset]\n",
    "price_counter = Counter(all_prices)\n",
    "price_keys = sorted(price_counter.keys())\n",
    "ax3.bar(price_keys, [price_counter[key] for key in price_keys])\n",
    "ax3.set_title(\"Price Distribution\")\n",
    "ax3.set_xlabel(\"Price Category\")\n",
    "ax3.set_ylabel(\"Number of Businesses\");"
   ]
  },
  {
   "cell_type": "markdown",
   "metadata": {},
   "source": [
    "Describe the distributions displayed above and interpret them in the context of your query. (Your answer may differ from the solution branch depending on your query.)"
   ]
  },
  {
   "cell_type": "code",
   "execution_count": 70,
   "metadata": {},
   "outputs": [
    {
     "data": {
      "text/plain": [
       "'\\nNone\\n'"
      ]
     },
     "execution_count": 70,
     "metadata": {},
     "output_type": "execute_result"
    }
   ],
   "source": [
    "# Replace None with appropriate text\n",
    "\"\"\"\n",
    "There is a high number of businesses \n",
    "with fewer reviews. The number of reviews\n",
    "increase with decrease in number of \n",
    "businesses. This indicates a high number\n",
    "of businesses that are barely reviewed.\n",
    "\n",
    "A large number of businesses have a rating \n",
    "of around 4. Fewer businesses have a low rating of \n",
    "2.5 and the least number of businesses have a \n",
    "of around 5.0. This indicated a large number \n",
    "of businesses are average.\n",
    "\"\"\""
   ]
  },
  {
   "cell_type": "markdown",
   "metadata": {},
   "source": [
    "In the cell below, we also plot the rating distributions by price. In this setup, a price of one dollar sign is \"lower price\" and everything else is \"higher price\"."
   ]
  },
  {
   "cell_type": "code",
   "execution_count": 71,
   "metadata": {},
   "outputs": [
    {
     "data": {
      "image/png": "[encoded data removed]",
      "text/plain": [
       "<Figure size 432x288 with 1 Axes>"
      ]
     },
     "metadata": {
      "needs_background": "light"
     },
     "output_type": "display_data"
    }
   ],
   "source": [
    "# Run this cell without changes\n",
    "\n",
    "higher_price = []\n",
    "lower_price = []\n",
    "for row in full_dataset:\n",
    "    if row[\"price\"] == \"$\":\n",
    "        lower_price.append(row[\"rating\"])\n",
    "    else:\n",
    "        higher_price.append(row[\"rating\"])\n",
    "        \n",
    "fig, ax = plt.subplots()\n",
    "\n",
    "ax.hist([higher_price, lower_price], label=[\"higher price\", \"lower price\"], density=True)\n",
    "\n",
    "ax.legend();"
   ]
  },
  {
   "cell_type": "markdown",
   "metadata": {},
   "source": [
    "Is a higher price associated with a higher rating? (No need for any additional math/statistics, just interpret what you see in the plot.)"
   ]
  },
  {
   "cell_type": "code",
   "execution_count": 72,
   "metadata": {},
   "outputs": [
    {
     "data": {
      "text/plain": [
       "'\\nYes, higher price seems to be associated with a higher rating.\\n\\nThe height of the blue bars are higher for ratings\\nof 4 or higher, whereas the heights of the orange bars\\nare higher for ratings of 3.5 or lower.\\n'"
      ]
     },
     "execution_count": 72,
     "metadata": {},
     "output_type": "execute_result"
    }
   ],
   "source": [
    "# Replace None with appropriate text\n",
    "\"\"\"\n",
    "Yes, higher price seems to be associated with a higher rating.\n",
    "\n",
    "The height of the blue bars are higher for ratings\n",
    "of 4 or higher, whereas the heights of the orange bars\n",
    "are higher for ratings of 3.5 or lower.\n",
    "\"\"\""
   ]
  },
  {
   "cell_type": "markdown",
   "metadata": {},
   "source": [
    "Finally, let's look at ratings vs. review counts:"
   ]
  },
  {
   "cell_type": "code",
   "execution_count": 73,
   "metadata": {},
   "outputs": [
    {
     "data": {
      "image/png": "[encoded data removed]",
      "text/plain": [
       "<Figure size 1152x360 with 1 Axes>"
      ]
     },
     "metadata": {
      "needs_background": "light"
     },
     "output_type": "display_data"
    }
   ],
   "source": [
    "# Run this cell without changes\n",
    "fig, ax = plt.subplots(figsize=(16,5))\n",
    "\n",
    "ax.scatter(all_review_counts, all_ratings, alpha=0.2)\n",
    "ax.set_xlabel(\"Number of Reviews\")\n",
    "ax.set_ylabel(\"Rating\")\n",
    "# \"zoom in\" to a subset of review counts\n",
    "ax.set_xlim(left=0, right=1000);"
   ]
  },
  {
   "cell_type": "markdown",
   "metadata": {},
   "source": [
    "Is a higher number of reviews associated with a higher rating?"
   ]
  },
  {
   "cell_type": "code",
   "execution_count": 44,
   "metadata": {},
   "outputs": [
    {
     "data": {
      "text/plain": [
       "'\\nNone\\n'"
      ]
     },
     "execution_count": 44,
     "metadata": {},
     "output_type": "execute_result"
    }
   ],
   "source": [
    "# Replace None with appropriate text\n",
    "\"\"\"\n",
    "No. A lower number of reviews is associated with\n",
    "a higher rating. \n",
    "\"\"\""
   ]
  },
  {
   "cell_type": "markdown",
   "metadata": {},
   "source": [
    "## 4. Create a Folium Map\n",
    "\n",
    "Make a map using Folium of the businesses you retrieved. Be sure to also add popups to the markers giving some basic information such as name, rating and price.\n",
    "\n",
    "You can center the map around the latitude and longitude of the first item in `full_dataset`."
   ]
  },
  {
   "cell_type": "code",
   "execution_count": 45,
   "metadata": {},
   "outputs": [
    {
     "data": {
      "text/html": [
       "<div style=\"width:100%;\"><div style=\"position:relative;width:100%;height:0;padding-bottom:60%;\"><span style=\"color:#565656\">Make this Notebook Trusted to load map: File -> Trust Notebook</span><iframe src=\"about:blank\" style=\"position:absolute;width:100%;height:100%;left:0;top:0;border:none !important;\" data-html=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 onload=\"this.contentDocument.open();this.contentDocument.write(atob(this.getAttribute('data-html')));this.contentDocument.close();\" allowfullscreen webkitallowfullscreen mozallowfullscreen></iframe></div></div>"
      ],
      "text/plain": [
       "<folium.folium.Map at 0x1ff0dfa40a0>"
      ]
     },
     "execution_count": 45,
     "metadata": {},
     "output_type": "execute_result"
    }
   ],
   "source": [
    "# Replace None with appropriate code\n",
    "\n",
    "# Import the library\n",
    "import folium\n",
    "\n",
    "# Set up center latitude and longitude\n",
    "center_lat = full_dataset[0][\"latitude\"]\n",
    "center_long = full_dataset[0][\"longitude\"]\n",
    "\n",
    "# Initialize map with center lat and long\n",
    "yelp_map = folium.Map([center_lat, center_long], zoom_start=12)\n",
    "\n",
    "# Adjust this limit to see more or fewer businesses\n",
    "limit=100\n",
    "\n",
    "for business in full_dataset[:limit]:\n",
    "    # Extract information about business\n",
    "    lat = business[\"latitude\"]\n",
    "    long = business[\"longitude\"]\n",
    "    name = business[\"name\"]\n",
    "    rating = business[\"rating\"]\n",
    "    price = business[\"price\"]\n",
    "    details = \"{}\\nPrice: {} Rating:{}\".format(name,price,rating)\n",
    "    \n",
    "    # Create popup with relevant details\n",
    "    popup = folium.Popup(details)\n",
    "    \n",
    "    # Create marker with relevant lat/long and popup\n",
    "    marker = folium.Marker([lat, long], popup=popup)\n",
    "    \n",
    "    marker.add_to(yelp_map)\n",
    "    \n",
    "yelp_map"
   ]
  },
  {
   "cell_type": "markdown",
   "metadata": {},
   "source": [
    "## Summary\n",
    "\n",
    "Nice work! In this lab, you've made multiple API calls to Yelp in order to paginate through a results set, performing some basic exploratory analysis and then creating a nice interactive map to display the results using Folium! Well done!"
   ]
  }
 ],
 "metadata": {
  "kernelspec": {
   "display_name": "Python 3",
   "language": "python",
   "name": "python3"
  },
  "language_info": {
   "codemirror_mode": {
    "name": "ipython",
    "version": 3
   },
   "file_extension": ".py",
   "mimetype": "text/x-python",
   "name": "python",
   "nbconvert_exporter": "python",
   "pygments_lexer": "ipython3",
   "version": "3.8.5"
  },
  "toc": {
   "base_numbering": 1,
   "nav_menu": {},
   "number_sections": true,
   "sideBar": true,
   "skip_h1_title": false,
   "title_cell": "Table of Contents",
   "title_sidebar": "Contents",
   "toc_cell": false,
   "toc_position": {},
   "toc_section_display": true,
   "toc_window_display": false
  }
 },
 "nbformat": 4,
 "nbformat_minor": 2
}
